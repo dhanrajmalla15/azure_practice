{
 "cells": [
  {
   "cell_type": "code",
   "execution_count": 1,
   "id": "189b33d5",
   "metadata": {},
   "outputs": [
    {
     "name": "stdout",
     "output_type": "stream",
     "text": [
      "batch_orders.csv created\n"
     ]
    }
   ],
   "source": [
    "import pandas as pd\n",
    "import random\n",
    "from datetime import datetime, timedelta\n",
    "\n",
    "start_time = datetime(2025, 9, 1, 9, 0, 0)\n",
    "customers = [\"Alice\",\"Bob\",\"Charlie\",\"David\",\"Emma\",\"Frank\",\"Grace\",\"Hannah\",\"Ivy\",\"Jack\",\"Zara\"]\n",
    "\n",
    "orders = []\n",
    "for i in range(1, 101):\n",
    "    ts = start_time + timedelta(minutes=i*5)\n",
    "    cust = random.choice(customers)\n",
    "    amt = random.randint(50, 500)\n",
    "    orders.append([i, ts, cust, amt])\n",
    "\n",
    "df = pd.DataFrame(orders, columns=[\"order_id\",\"timestamp\",\"customer\",\"amount\"])\n",
    "df.to_csv(\"batch_orders.csv\", index=False)\n",
    "print(\"batch_orders.csv created\")"
   ]
  },
  {
   "cell_type": "code",
   "execution_count": 2,
   "id": "88528a44",
   "metadata": {},
   "outputs": [
    {
     "name": "stdout",
     "output_type": "stream",
     "text": [
      "First 5 rows of batch data:\n",
      "   order_id            timestamp customer  amount\n",
      "0         1  2025-09-01 09:05:00     Emma     120\n",
      "1         2  2025-09-01 09:10:00    Alice     118\n",
      "2         3  2025-09-01 09:15:00    Alice     240\n",
      "3         4  2025-09-01 09:20:00      Ivy     413\n",
      "4         5  2025-09-01 09:25:00      Ivy     162\n",
      "\n",
      "Batch total revenue: 28433\n",
      "Batch average order value: 284.33\n",
      "Orders per customer:\n",
      "customer\n",
      "Grace      12\n",
      "David      11\n",
      "Emma       10\n",
      "Alice      10\n",
      "Ivy        10\n",
      "Frank      10\n",
      "Bob         9\n",
      "Zara        8\n",
      "Jack        7\n",
      "Hannah      7\n",
      "Charlie     6\n",
      "Name: count, dtype: int64\n"
     ]
    }
   ],
   "source": [
    "batch_df = pd.read_csv(\"batch_orders.csv\")\n",
    "\n",
    "print(\"First 5 rows of batch data:\")\n",
    "print(batch_df.head())\n",
    "\n",
    "# Simple analytics\n",
    "print(\"\\nBatch total revenue:\", batch_df['amount'].sum())\n",
    "print(\"Batch average order value:\", batch_df['amount'].mean())\n",
    "print(\"Orders per customer:\")\n",
    "print(batch_df['customer'].value_counts())"
   ]
  },
  {
   "cell_type": "code",
   "execution_count": 3,
   "id": "21070d01",
   "metadata": {},
   "outputs": [
    {
     "name": "stdout",
     "output_type": "stream",
     "text": [
      "Listening to stream...\n",
      "Real-time order: Ivy bought worth $147 at 2025-09-08 12:32:03\n",
      "Real-time order: Hannah bought worth $358 at 2025-09-08 12:32:08\n",
      "Real-time order: Jack bought worth $88 at 2025-09-08 12:32:13\n",
      "Real-time order: Zara bought worth $431 at 2025-09-08 12:32:18\n",
      "Real-time order: Zara bought worth $361 at 2025-09-08 12:32:23\n",
      "Real-time order: Grace bought worth $220 at 2025-09-08 12:32:28\n",
      "Real-time order: Frank bought worth $405 at 2025-09-08 12:32:33\n",
      "Real-time order: Charlie bought worth $329 at 2025-09-08 12:32:38\n",
      "Real-time order: David bought worth $289 at 2025-09-08 12:32:43\n",
      "Real-time order: Hannah bought worth $354 at 2025-09-08 12:32:48\n",
      "Real-time order: Emma bought worth $382 at 2025-09-08 12:32:53\n",
      "Real-time order: Bob bought worth $241 at 2025-09-08 12:32:58\n",
      "Real-time order: Jack bought worth $102 at 2025-09-08 12:33:03\n",
      "Real-time order: Emma bought worth $253 at 2025-09-08 12:33:08\n",
      "Real-time order: Frank bought worth $125 at 2025-09-08 12:33:13\n",
      "Real-time order: Grace bought worth $228 at 2025-09-08 12:33:18\n",
      "Real-time order: Zara bought worth $198 at 2025-09-08 12:33:23\n",
      "Real-time order: Zara bought worth $158 at 2025-09-08 12:33:28\n",
      "Real-time order: Jack bought worth $133 at 2025-09-08 12:33:33\n",
      "Real-time order: David bought worth $370 at 2025-09-08 12:33:38\n",
      "Real-time order: Emma bought worth $76 at 2025-09-08 12:33:43\n",
      "Real-time order: Charlie bought worth $468 at 2025-09-08 12:33:48\n",
      "Real-time order: Alice bought worth $259 at 2025-09-08 12:33:53\n",
      "Real-time order: Frank bought worth $240 at 2025-09-08 12:33:58\n",
      "Real-time order: Bob bought worth $215 at 2025-09-08 12:34:03\n",
      "Real-time order: Hannah bought worth $280 at 2025-09-08 12:34:08\n",
      "Real-time order: Emma bought worth $210 at 2025-09-08 12:34:13\n",
      "Real-time order: Alice bought worth $397 at 2025-09-08 12:34:18\n",
      "Real-time order: Alice bought worth $203 at 2025-09-08 12:34:23\n",
      "Real-time order: Zara bought worth $90 at 2025-09-08 12:34:28\n",
      "Real-time order: Zara bought worth $369 at 2025-09-08 12:34:33\n",
      "Real-time order: Hannah bought worth $426 at 2025-09-08 12:34:38\n",
      "Real-time order: Alice bought worth $147 at 2025-09-08 12:34:43\n",
      "Real-time order: Bob bought worth $204 at 2025-09-08 12:34:48\n",
      "Real-time order: Ivy bought worth $437 at 2025-09-08 12:34:53\n",
      "Real-time order: Zara bought worth $78 at 2025-09-08 12:34:58\n",
      "Real-time order: Grace bought worth $377 at 2025-09-08 12:35:03\n",
      "Real-time order: Emma bought worth $168 at 2025-09-08 12:35:08\n",
      "Real-time order: Charlie bought worth $192 at 2025-09-08 12:35:13\n",
      "Real-time order: Charlie bought worth $447 at 2025-09-08 12:35:18\n",
      "Real-time order: Bob bought worth $180 at 2025-09-08 12:35:23\n",
      "Real-time order: Jack bought worth $346 at 2025-09-08 12:35:28\n",
      "Real-time order: Bob bought worth $237 at 2025-09-08 12:35:33\n",
      "Real-time order: Bob bought worth $220 at 2025-09-08 12:35:38\n",
      "Real-time order: Bob bought worth $172 at 2025-09-08 12:35:43\n",
      "Real-time order: Grace bought worth $184 at 2025-09-08 12:35:48\n",
      "Real-time order: Charlie bought worth $220 at 2025-09-08 12:35:53\n",
      "Real-time order: Charlie bought worth $403 at 2025-09-08 12:35:58\n",
      "Real-time order: Bob bought worth $308 at 2025-09-08 12:36:03\n",
      "Real-time order: Charlie bought worth $122 at 2025-09-08 12:36:08\n",
      "Real-time order: Grace bought worth $311 at 2025-09-08 12:36:13\n",
      "Real-time order: Emma bought worth $185 at 2025-09-08 12:36:18\n",
      "Real-time order: Alice bought worth $127 at 2025-09-08 12:36:23\n",
      "Real-time order: Frank bought worth $156 at 2025-09-08 12:36:28\n",
      "Real-time order: Alice bought worth $399 at 2025-09-08 12:36:33\n",
      "Real-time order: Alice bought worth $311 at 2025-09-08 12:36:38\n",
      "Real-time order: Zara bought worth $328 at 2025-09-08 12:36:43\n"
     ]
    },
    {
     "ename": "KeyboardInterrupt",
     "evalue": "",
     "output_type": "error",
     "traceback": [
      "\u001b[0;31m---------------------------------------------------------------------------\u001b[0m",
      "\u001b[0;31mKeyboardInterrupt\u001b[0m                         Traceback (most recent call last)",
      "Cell \u001b[0;32mIn[3], line 15\u001b[0m\n\u001b[1;32m     12\u001b[0m             \u001b[38;5;28;01myield\u001b[39;00m line\u001b[38;5;241m.\u001b[39mstrip()\n\u001b[1;32m     14\u001b[0m \u001b[38;5;28mprint\u001b[39m(\u001b[38;5;124m\"\u001b[39m\u001b[38;5;124mListening to stream...\u001b[39m\u001b[38;5;124m\"\u001b[39m)\n\u001b[0;32m---> 15\u001b[0m \u001b[38;5;28;01mfor\u001b[39;00m order \u001b[38;5;129;01min\u001b[39;00m read_stream():\n\u001b[1;32m     16\u001b[0m     order_id, ts, cust, amt \u001b[38;5;241m=\u001b[39m order\u001b[38;5;241m.\u001b[39msplit(\u001b[38;5;124m\"\u001b[39m\u001b[38;5;124m,\u001b[39m\u001b[38;5;124m\"\u001b[39m)\n\u001b[1;32m     17\u001b[0m     \u001b[38;5;28mprint\u001b[39m(\u001b[38;5;124mf\u001b[39m\u001b[38;5;124m\"\u001b[39m\u001b[38;5;124mReal-time order: \u001b[39m\u001b[38;5;132;01m{\u001b[39;00mcust\u001b[38;5;132;01m}\u001b[39;00m\u001b[38;5;124m bought worth $\u001b[39m\u001b[38;5;132;01m{\u001b[39;00mamt\u001b[38;5;132;01m}\u001b[39;00m\u001b[38;5;124m at \u001b[39m\u001b[38;5;132;01m{\u001b[39;00mts\u001b[38;5;132;01m}\u001b[39;00m\u001b[38;5;124m\"\u001b[39m)\n",
      "Cell \u001b[0;32mIn[3], line 10\u001b[0m, in \u001b[0;36mread_stream\u001b[0;34m(filename)\u001b[0m\n\u001b[1;32m      8\u001b[0m line \u001b[38;5;241m=\u001b[39m f\u001b[38;5;241m.\u001b[39mreadline()\n\u001b[1;32m      9\u001b[0m \u001b[38;5;28;01mif\u001b[39;00m \u001b[38;5;129;01mnot\u001b[39;00m line:\n\u001b[0;32m---> 10\u001b[0m     \u001b[43mtime\u001b[49m\u001b[38;5;241;43m.\u001b[39;49m\u001b[43msleep\u001b[49m\u001b[43m(\u001b[49m\u001b[38;5;241;43m1\u001b[39;49m\u001b[43m)\u001b[49m  \u001b[38;5;66;03m# wait for new data\u001b[39;00m\n\u001b[1;32m     11\u001b[0m     \u001b[38;5;28;01mcontinue\u001b[39;00m\n\u001b[1;32m     12\u001b[0m \u001b[38;5;28;01myield\u001b[39;00m line\u001b[38;5;241m.\u001b[39mstrip()\n",
      "\u001b[0;31mKeyboardInterrupt\u001b[0m: "
     ]
    }
   ],
   "source": [
    "import time\n",
    "\n",
    "def read_stream(filename=\"stream_orders.txt\"):\n",
    "    with open(filename, \"r\") as f:\n",
    "        # move to end of file\n",
    "        f.seek(0,2)\n",
    "        while True:\n",
    "            line = f.readline()\n",
    "            if not line:\n",
    "                time.sleep(1)  # wait for new data\n",
    "                continue\n",
    "            yield line.strip()\n",
    "\n",
    "print(\"Listening to stream...\")\n",
    "for order in read_stream():\n",
    "    order_id, ts, cust, amt = order.split(\",\")\n",
    "    print(f\"Real-time order: {cust} bought worth ${amt} at {ts}\")"
   ]
  },
  {
   "cell_type": "code",
   "execution_count": null,
   "id": "7bf6930a",
   "metadata": {},
   "outputs": [],
   "source": []
  }
 ],
 "metadata": {
  "kernelspec": {
   "display_name": "py310",
   "language": "python",
   "name": "python3"
  },
  "language_info": {
   "codemirror_mode": {
    "name": "ipython",
    "version": 3
   },
   "file_extension": ".py",
   "mimetype": "text/x-python",
   "name": "python",
   "nbconvert_exporter": "python",
   "pygments_lexer": "ipython3",
   "version": "3.10.18"
  }
 },
 "nbformat": 4,
 "nbformat_minor": 5
}
